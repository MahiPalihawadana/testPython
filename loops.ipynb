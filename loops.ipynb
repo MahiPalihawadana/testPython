{
 "cells": [
  {
   "cell_type": "code",
   "execution_count": 1,
   "id": "27e60fc8",
   "metadata": {},
   "outputs": [
    {
     "data": {
      "text/plain": [
       "range(0, 3)"
      ]
     },
     "execution_count": 1,
     "metadata": {},
     "output_type": "execute_result"
    }
   ],
   "source": [
    "#loops\n",
    "\n",
    "range(3)\n"
   ]
  },
  {
   "cell_type": "code",
   "execution_count": 4,
   "id": "117cf5fb",
   "metadata": {},
   "outputs": [
    {
     "data": {
      "text/plain": [
       "range(10, 15)"
      ]
     },
     "execution_count": 4,
     "metadata": {},
     "output_type": "execute_result"
    }
   ],
   "source": [
    "range(10,15)\n"
   ]
  },
  {
   "cell_type": "code",
   "execution_count": 6,
   "id": "285d8dec",
   "metadata": {},
   "outputs": [
    {
     "data": {
      "text/plain": [
       "['white', 'white', 'white', 'white', 'white']"
      ]
     },
     "execution_count": 6,
     "metadata": {},
     "output_type": "execute_result"
    }
   ],
   "source": [
    "#for loops\n",
    "\n",
    "squares=[\"red\",\"yellow\",\"green\",\"purple\",\"blue\"]\n",
    "\n",
    "for i in range(0,5):\n",
    "    squares[i]=\"white\"\n",
    "    \n",
    "squares"
   ]
  },
  {
   "cell_type": "code",
   "execution_count": 7,
   "id": "68a8f0f6",
   "metadata": {},
   "outputs": [],
   "source": [
    "squares=[\"red\",\"yellow\",\"green\"]\n",
    "\n",
    "for square in squares:\n",
    "    square"
   ]
  },
  {
   "cell_type": "code",
   "execution_count": 8,
   "id": "cf158dbf",
   "metadata": {},
   "outputs": [],
   "source": [
    "squares=[\"red\",\"yellow\",\"green\"]\n",
    "\n",
    "for i,square in enumerate(squares):\n",
    "    square\n",
    "    i"
   ]
  },
  {
   "cell_type": "code",
   "execution_count": 22,
   "id": "e993a306",
   "metadata": {},
   "outputs": [
    {
     "data": {
      "text/plain": [
       "['orange', 'orange']"
      ]
     },
     "execution_count": 22,
     "metadata": {},
     "output_type": "execute_result"
    }
   ],
   "source": [
    "#while\n",
    "\n",
    "squares=['orange','orange','purple','orange','purple']\n",
    "Newsquares=[]\n",
    "\n",
    "i=0\n",
    "\n",
    "while(squares[i]=='orange'):\n",
    "    Newsquares.append(squares[i])\n",
    "    i=i+1\n",
    "Newsquares"
   ]
  },
  {
   "cell_type": "code",
   "execution_count": null,
   "id": "bf25b08a",
   "metadata": {},
   "outputs": [],
   "source": []
  },
  {
   "cell_type": "code",
   "execution_count": null,
   "id": "443f047b",
   "metadata": {},
   "outputs": [],
   "source": []
  }
 ],
 "metadata": {
  "kernelspec": {
   "display_name": "Python 3",
   "language": "python",
   "name": "python3"
  },
  "language_info": {
   "codemirror_mode": {
    "name": "ipython",
    "version": 3
   },
   "file_extension": ".py",
   "mimetype": "text/x-python",
   "name": "python",
   "nbconvert_exporter": "python",
   "pygments_lexer": "ipython3",
   "version": "3.9.5"
  }
 },
 "nbformat": 4,
 "nbformat_minor": 5
}
