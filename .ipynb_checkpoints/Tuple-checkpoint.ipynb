{
 "cells": [
  {
   "cell_type": "code",
   "execution_count": 1,
   "id": "95f9fee1",
   "metadata": {},
   "outputs": [
    {
     "data": {
      "text/plain": [
       "tuple"
      ]
     },
     "execution_count": 1,
     "metadata": {},
     "output_type": "execute_result"
    }
   ],
   "source": [
    "#list and tuples\n",
    "\n",
    "#Tuple - ordered sequence\n",
    "\n",
    "Tuple1 = (\"disco\" , 10, 1.2)\n",
    "type(Tuple1)"
   ]
  },
  {
   "cell_type": "code",
   "execution_count": 2,
   "id": "b6340304",
   "metadata": {},
   "outputs": [
    {
     "data": {
      "text/plain": [
       "'disco'"
      ]
     },
     "execution_count": 2,
     "metadata": {},
     "output_type": "execute_result"
    }
   ],
   "source": [
    "Tuple1[0]"
   ]
  },
  {
   "cell_type": "code",
   "execution_count": 3,
   "id": "d2a3ebec",
   "metadata": {},
   "outputs": [
    {
     "data": {
      "text/plain": [
       "('disco', 10, 1.2, 'hard rock', 10)"
      ]
     },
     "execution_count": 3,
     "metadata": {},
     "output_type": "execute_result"
    }
   ],
   "source": [
    "Tuple2= Tuple1 + (\"hard rock\",10)\n",
    "Tuple2"
   ]
  },
  {
   "cell_type": "code",
   "execution_count": 4,
   "id": "9824127d",
   "metadata": {},
   "outputs": [
    {
     "data": {
      "text/plain": [
       "('disco', 10, 1.2)"
      ]
     },
     "execution_count": 4,
     "metadata": {},
     "output_type": "execute_result"
    }
   ],
   "source": [
    "#slice tuple\n",
    "Tuple2[0:3]"
   ]
  },
  {
   "cell_type": "code",
   "execution_count": 5,
   "id": "05b06a41",
   "metadata": {},
   "outputs": [
    {
     "data": {
      "text/plain": [
       "('hard rock', 10)"
      ]
     },
     "execution_count": 5,
     "metadata": {},
     "output_type": "execute_result"
    }
   ],
   "source": [
    "Tuple2[3:5]"
   ]
  },
  {
   "cell_type": "code",
   "execution_count": 6,
   "id": "a45c075e",
   "metadata": {},
   "outputs": [
    {
     "data": {
      "text/plain": [
       "5"
      ]
     },
     "execution_count": 6,
     "metadata": {},
     "output_type": "execute_result"
    }
   ],
   "source": [
    "len(Tuple2)"
   ]
  },
  {
   "cell_type": "code",
   "execution_count": 7,
   "id": "bf567ce6",
   "metadata": {},
   "outputs": [],
   "source": [
    "Ratings=(10,9,6,5,10,8,9,6,2)\n",
    "Ratings1=Ratings"
   ]
  },
  {
   "cell_type": "code",
   "execution_count": 8,
   "id": "0353d2c0",
   "metadata": {},
   "outputs": [
    {
     "data": {
      "text/plain": [
       "(10, 9, 6, 5, 10, 8, 9, 6, 2)"
      ]
     },
     "execution_count": 8,
     "metadata": {},
     "output_type": "execute_result"
    }
   ],
   "source": [
    "#reference\n",
    "Ratings1\n"
   ]
  },
  {
   "cell_type": "code",
   "execution_count": 9,
   "id": "7b564d8b",
   "metadata": {},
   "outputs": [
    {
     "ename": "TypeError",
     "evalue": "'tuple' object does not support item assignment",
     "output_type": "error",
     "traceback": [
      "\u001b[1;31m---------------------------------------------------------------------------\u001b[0m",
      "\u001b[1;31mTypeError\u001b[0m                                 Traceback (most recent call last)",
      "\u001b[1;32m<ipython-input-9-aa74063a2dad>\u001b[0m in \u001b[0;36m<module>\u001b[1;34m\u001b[0m\n\u001b[1;32m----> 1\u001b[1;33m \u001b[0mRatings\u001b[0m\u001b[1;33m[\u001b[0m\u001b[1;36m2\u001b[0m\u001b[1;33m]\u001b[0m\u001b[1;33m=\u001b[0m\u001b[1;36m4\u001b[0m\u001b[1;33m\u001b[0m\u001b[1;33m\u001b[0m\u001b[0m\n\u001b[0m",
      "\u001b[1;31mTypeError\u001b[0m: 'tuple' object does not support item assignment"
     ]
    }
   ],
   "source": [
    "#immutable\n",
    "#can't change element at 2\n",
    "Ratings[2]=4"
   ]
  },
  {
   "cell_type": "code",
   "execution_count": null,
   "id": "c4db2db2",
   "metadata": {},
   "outputs": [],
   "source": []
  }
 ],
 "metadata": {
  "kernelspec": {
   "display_name": "Python 3",
   "language": "python",
   "name": "python3"
  },
  "language_info": {
   "codemirror_mode": {
    "name": "ipython",
    "version": 3
   },
   "file_extension": ".py",
   "mimetype": "text/x-python",
   "name": "python",
   "nbconvert_exporter": "python",
   "pygments_lexer": "ipython3",
   "version": "3.9.5"
  }
 },
 "nbformat": 4,
 "nbformat_minor": 5
}
