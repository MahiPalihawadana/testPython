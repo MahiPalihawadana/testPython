{
 "cells": [
  {
   "cell_type": "code",
   "execution_count": 1,
   "id": "5b565236",
   "metadata": {},
   "outputs": [
    {
     "data": {
      "text/plain": [
       "6"
      ]
     },
     "execution_count": 1,
     "metadata": {},
     "output_type": "execute_result"
    }
   ],
   "source": [
    "#functions\n",
    "\n",
    "#in built functions\n",
    "\n",
    "album_ratings=[12,564,105,85,75,8.2]\n",
    "L=len(album_ratings)\n",
    "L"
   ]
  },
  {
   "cell_type": "code",
   "execution_count": 2,
   "id": "146ae224",
   "metadata": {},
   "outputs": [
    {
     "data": {
      "text/plain": [
       "849.2"
      ]
     },
     "execution_count": 2,
     "metadata": {},
     "output_type": "execute_result"
    }
   ],
   "source": [
    "S=sum(album_ratings)\n",
    "S"
   ]
  },
  {
   "cell_type": "code",
   "execution_count": 4,
   "id": "698a5cc6",
   "metadata": {},
   "outputs": [
    {
     "data": {
      "text/plain": [
       "[8.2, 12, 75, 85, 105, 564]"
      ]
     },
     "execution_count": 4,
     "metadata": {},
     "output_type": "execute_result"
    }
   ],
   "source": [
    "#sorted - new list created without chnaging the original list\n",
    "sorted_album_ratings=sorted(album_ratings)\n",
    "sorted_album_ratings"
   ]
  },
  {
   "cell_type": "code",
   "execution_count": 6,
   "id": "6d070ada",
   "metadata": {},
   "outputs": [
    {
     "data": {
      "text/plain": [
       "[12, 564, 105, 85, 75, 8.2]"
      ]
     },
     "execution_count": 6,
     "metadata": {},
     "output_type": "execute_result"
    }
   ],
   "source": [
    "\n",
    "album_ratings"
   ]
  },
  {
   "cell_type": "code",
   "execution_count": 7,
   "id": "06dfc588",
   "metadata": {},
   "outputs": [
    {
     "data": {
      "text/plain": [
       "[8.2, 12, 75, 85, 105, 564]"
      ]
     },
     "execution_count": 7,
     "metadata": {},
     "output_type": "execute_result"
    }
   ],
   "source": [
    "#sort - no new list,oriignal list is changing\n",
    "album_rating=[12,564,105,85,75,8.2]\n",
    "\n",
    "album_rating.sort()\n",
    "album_rating"
   ]
  },
  {
   "cell_type": "code",
   "execution_count": 8,
   "id": "c85ea296",
   "metadata": {},
   "outputs": [
    {
     "data": {
      "text/plain": [
       "6"
      ]
     },
     "execution_count": 8,
     "metadata": {},
     "output_type": "execute_result"
    }
   ],
   "source": [
    "#making functions\n",
    "\n",
    "def add1(a):\n",
    "    b=a+1\n",
    "    return b\n",
    "\n",
    "add1(5)"
   ]
  },
  {
   "cell_type": "code",
   "execution_count": 9,
   "id": "6641912e",
   "metadata": {},
   "outputs": [
    {
     "data": {
      "text/plain": [
       "6"
      ]
     },
     "execution_count": 9,
     "metadata": {},
     "output_type": "execute_result"
    }
   ],
   "source": [
    "c=add1(5)\n",
    "c"
   ]
  },
  {
   "cell_type": "code",
   "execution_count": 10,
   "id": "f2c1ec74",
   "metadata": {},
   "outputs": [],
   "source": [
    "def add1(a):\n",
    "    \"\"\"\n",
    "    add 1 to a\n",
    "    \"\"\"\n",
    "    \n",
    "    b=a+1;\n",
    "    return b\n",
    "\n",
    "    help(add1)"
   ]
  },
  {
   "cell_type": "code",
   "execution_count": 11,
   "id": "1d41b9e3",
   "metadata": {},
   "outputs": [
    {
     "data": {
      "text/plain": [
       "9"
      ]
     },
     "execution_count": 11,
     "metadata": {},
     "output_type": "execute_result"
    }
   ],
   "source": [
    "add1(8)"
   ]
  },
  {
   "cell_type": "code",
   "execution_count": 12,
   "id": "959c0cd1",
   "metadata": {},
   "outputs": [],
   "source": [
    "#multiple parameters\n",
    "\n",
    "def Mult(a,b):\n",
    "    c=a*b\n",
    "    return c\n",
    "\n",
    "\n"
   ]
  },
  {
   "cell_type": "code",
   "execution_count": 13,
   "id": "b039d156",
   "metadata": {},
   "outputs": [
    {
     "data": {
      "text/plain": [
       "6"
      ]
     },
     "execution_count": 13,
     "metadata": {},
     "output_type": "execute_result"
    }
   ],
   "source": [
    "Mult(2,3)"
   ]
  },
  {
   "cell_type": "code",
   "execution_count": 15,
   "id": "d0c66d84",
   "metadata": {},
   "outputs": [
    {
     "data": {
      "text/plain": [
       "6.720000000000001"
      ]
     },
     "execution_count": 15,
     "metadata": {},
     "output_type": "execute_result"
    }
   ],
   "source": [
    "Mult(2.1,3.2)"
   ]
  },
  {
   "cell_type": "code",
   "execution_count": 17,
   "id": "6868674e",
   "metadata": {},
   "outputs": [
    {
     "data": {
      "text/plain": [
       "' Dilki Dilki'"
      ]
     },
     "execution_count": 17,
     "metadata": {},
     "output_type": "execute_result"
    }
   ],
   "source": [
    "Mult(2, \" Dilki\")"
   ]
  },
  {
   "cell_type": "code",
   "execution_count": 19,
   "id": "61d81af1",
   "metadata": {},
   "outputs": [
    {
     "name": "stdout",
     "output_type": "stream",
     "text": [
      "Michal\n"
     ]
    }
   ],
   "source": [
    "def MJ():\n",
    "    print('Michal')\n",
    "    \n",
    "MJ()"
   ]
  },
  {
   "cell_type": "code",
   "execution_count": 20,
   "id": "a7a618fe",
   "metadata": {},
   "outputs": [],
   "source": [
    "def NoWork():\n",
    "    pass"
   ]
  },
  {
   "cell_type": "code",
   "execution_count": 21,
   "id": "4640ebb5",
   "metadata": {},
   "outputs": [
    {
     "name": "stdout",
     "output_type": "stream",
     "text": [
      "None\n"
     ]
    }
   ],
   "source": [
    "print(NoWork())"
   ]
  },
  {
   "cell_type": "code",
   "execution_count": 23,
   "id": "49ed3b78",
   "metadata": {},
   "outputs": [],
   "source": [
    "def NoWorks():\n",
    "    pass\n",
    "    return None"
   ]
  },
  {
   "cell_type": "code",
   "execution_count": 25,
   "id": "5e819b1a",
   "metadata": {},
   "outputs": [],
   "source": [
    "#more than one task in function\n",
    "\n",
    "def add1(a):\n",
    "    b=a+1;\n",
    "    print(a, \"plus 1 equals \",b)\n",
    "    return b"
   ]
  },
  {
   "cell_type": "code",
   "execution_count": 26,
   "id": "dd7d5958",
   "metadata": {},
   "outputs": [
    {
     "name": "stdout",
     "output_type": "stream",
     "text": [
      "5 plus 1 equals  6\n"
     ]
    },
    {
     "data": {
      "text/plain": [
       "6"
      ]
     },
     "execution_count": 26,
     "metadata": {},
     "output_type": "execute_result"
    }
   ],
   "source": [
    "add1(5)"
   ]
  },
  {
   "cell_type": "code",
   "execution_count": 34,
   "id": "74efc326",
   "metadata": {},
   "outputs": [
    {
     "name": "stdout",
     "output_type": "stream",
     "text": [
      "Album 0 rating is 10.0\n",
      "Album 1 rating is 8.5\n",
      "Album 2 rating is 9.5\n"
     ]
    }
   ],
   "source": [
    "#loops in functions\n",
    " \n",
    "def printStuff(Stuff):\n",
    "    for i,s in enumerate(Stuff):\n",
    "        print(\"Album\",i,\"rating is\",s)\n",
    "     \n",
    "album_ratings=[10.0,8.5,9.5]\n",
    "printStuff(album_ratings)"
   ]
  },
  {
   "cell_type": "code",
   "execution_count": 36,
   "id": "bf7ba176",
   "metadata": {},
   "outputs": [
    {
     "name": "stdout",
     "output_type": "stream",
     "text": [
      "dilki\n",
      "ac/dc\n"
     ]
    }
   ],
   "source": [
    "#collecting arguments\n",
    "\n",
    "def ArtistNames(*names):\n",
    "    for name in names:\n",
    "        print(name)\n",
    "\n",
    "ArtistNames(\"dilki\",\"ac/dc\")\n"
   ]
  },
  {
   "cell_type": "code",
   "execution_count": 37,
   "id": "356e2e44",
   "metadata": {},
   "outputs": [
    {
     "name": "stdout",
     "output_type": "stream",
     "text": [
      "ACDC\n"
     ]
    }
   ],
   "source": [
    "#scope - part of the program where the variable is accessible\n",
    "#out side the function - global variable\n",
    "\n",
    "def AddDC(x):\n",
    "    x=x+\"DC\"\n",
    "    print(x)\n",
    "    return(x)\n",
    "\n",
    "x=\"AC\"\n",
    "z=AddDC(x)\n",
    "\n"
   ]
  },
  {
   "cell_type": "code",
   "execution_count": 38,
   "id": "54f2c786",
   "metadata": {},
   "outputs": [
    {
     "name": "stdout",
     "output_type": "stream",
     "text": [
      "1982\n",
      "2017\n"
     ]
    }
   ],
   "source": [
    "#local variable\n",
    "#inside the function\n",
    "\n",
    "def Thriller():\n",
    "    Date =1982\n",
    "    return(Date)\n",
    "\n",
    "Date= 2017\n",
    "\n",
    "print(Thriller())\n",
    "print(Date)"
   ]
  },
  {
   "cell_type": "code",
   "execution_count": 40,
   "id": "1af12a44",
   "metadata": {},
   "outputs": [
    {
     "name": "stdout",
     "output_type": "stream",
     "text": [
      "9\n",
      "10\n"
     ]
    }
   ],
   "source": [
    "def ACDC(y):\n",
    "    print(Rating)\n",
    "    print(Rating + y)\n",
    "\n",
    "Rating=9\n",
    "    \n",
    "Z=ACDC(1)"
   ]
  },
  {
   "cell_type": "code",
   "execution_count": 41,
   "id": "267a1a86",
   "metadata": {},
   "outputs": [
    {
     "name": "stdout",
     "output_type": "stream",
     "text": [
      "9\n"
     ]
    }
   ],
   "source": [
    "print(Rating)"
   ]
  },
  {
   "cell_type": "code",
   "execution_count": 42,
   "id": "b2f5fea4",
   "metadata": {},
   "outputs": [],
   "source": [
    "def PinkFloyd():\n",
    "    global ClamiedSales\n",
    "    ClamiedSales = '45 millions'\n",
    "    return ClamiedSales\n",
    "\n",
    "\n"
   ]
  },
  {
   "cell_type": "code",
   "execution_count": 43,
   "id": "7cb8b1dd",
   "metadata": {},
   "outputs": [
    {
     "data": {
      "text/plain": [
       "'45 millions'"
      ]
     },
     "execution_count": 43,
     "metadata": {},
     "output_type": "execute_result"
    }
   ],
   "source": [
    "PinkFloyd()"
   ]
  },
  {
   "cell_type": "code",
   "execution_count": 44,
   "id": "c37f2687",
   "metadata": {},
   "outputs": [
    {
     "name": "stdout",
     "output_type": "stream",
     "text": [
      "45 millions\n"
     ]
    }
   ],
   "source": [
    "print(ClamiedSales)"
   ]
  },
  {
   "cell_type": "code",
   "execution_count": null,
   "id": "284c21ea",
   "metadata": {},
   "outputs": [],
   "source": []
  }
 ],
 "metadata": {
  "kernelspec": {
   "display_name": "Python 3",
   "language": "python",
   "name": "python3"
  },
  "language_info": {
   "codemirror_mode": {
    "name": "ipython",
    "version": 3
   },
   "file_extension": ".py",
   "mimetype": "text/x-python",
   "name": "python",
   "nbconvert_exporter": "python",
   "pygments_lexer": "ipython3",
   "version": "3.9.5"
  }
 },
 "nbformat": 4,
 "nbformat_minor": 5
}
