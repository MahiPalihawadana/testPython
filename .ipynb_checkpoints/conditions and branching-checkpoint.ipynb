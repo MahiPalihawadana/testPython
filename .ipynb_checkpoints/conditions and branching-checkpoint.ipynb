{
 "cells": [
  {
   "cell_type": "code",
   "execution_count": 1,
   "id": "150db0ec",
   "metadata": {},
   "outputs": [
    {
     "data": {
      "text/plain": [
       "False"
      ]
     },
     "execution_count": 1,
     "metadata": {},
     "output_type": "execute_result"
    }
   ],
   "source": [
    "#conditions\n",
    "a=6\n",
    "a==7"
   ]
  },
  {
   "cell_type": "code",
   "execution_count": 2,
   "id": "6a00040f",
   "metadata": {},
   "outputs": [
    {
     "data": {
      "text/plain": [
       "True"
      ]
     },
     "execution_count": 2,
     "metadata": {},
     "output_type": "execute_result"
    }
   ],
   "source": [
    "a==6"
   ]
  },
  {
   "cell_type": "code",
   "execution_count": 4,
   "id": "8359aeaa",
   "metadata": {},
   "outputs": [
    {
     "data": {
      "text/plain": [
       "True"
      ]
     },
     "execution_count": 4,
     "metadata": {},
     "output_type": "execute_result"
    }
   ],
   "source": [
    "i=6\n",
    "i>5\n"
   ]
  },
  {
   "cell_type": "code",
   "execution_count": 6,
   "id": "32c84ba3",
   "metadata": {},
   "outputs": [
    {
     "data": {
      "text/plain": [
       "False"
      ]
     },
     "execution_count": 6,
     "metadata": {},
     "output_type": "execute_result"
    }
   ],
   "source": [
    "i=4\n",
    "i>5"
   ]
  },
  {
   "cell_type": "code",
   "execution_count": 8,
   "id": "1aee2cb3",
   "metadata": {},
   "outputs": [
    {
     "data": {
      "text/plain": [
       "True"
      ]
     },
     "execution_count": 8,
     "metadata": {},
     "output_type": "execute_result"
    }
   ],
   "source": [
    "i=2\n",
    "i!=6\n"
   ]
  },
  {
   "cell_type": "code",
   "execution_count": 9,
   "id": "8a00719d",
   "metadata": {},
   "outputs": [
    {
     "data": {
      "text/plain": [
       "False"
      ]
     },
     "execution_count": 9,
     "metadata": {},
     "output_type": "execute_result"
    }
   ],
   "source": [
    "\"AC/DC\" == \"Dilki\""
   ]
  },
  {
   "cell_type": "code",
   "execution_count": 10,
   "id": "6de11afa",
   "metadata": {},
   "outputs": [
    {
     "data": {
      "text/plain": [
       "True"
      ]
     },
     "execution_count": 10,
     "metadata": {},
     "output_type": "execute_result"
    }
   ],
   "source": [
    "\"AC/DC\" != \"Dilki\""
   ]
  },
  {
   "cell_type": "code",
   "execution_count": 25,
   "id": "2ab0c362",
   "metadata": {},
   "outputs": [
    {
     "name": "stdout",
     "output_type": "stream",
     "text": [
      "you enter\n",
      "move on\n"
     ]
    }
   ],
   "source": [
    "#brancing\n",
    "age = 19\n",
    "if(age>18):\n",
    "    print(\"you enter\")\n",
    "print(\"move on\")"
   ]
  },
  {
   "cell_type": "code",
   "execution_count": 24,
   "id": "7bb936c9",
   "metadata": {},
   "outputs": [
    {
     "name": "stdout",
     "output_type": "stream",
     "text": [
      "move on\n"
     ]
    }
   ],
   "source": [
    "age =17\n",
    "if(age>18):\n",
    "    print(\"you enter\")\n",
    "print(\"move on\")"
   ]
  },
  {
   "cell_type": "code",
   "execution_count": 27,
   "id": "b7eabdbf",
   "metadata": {},
   "outputs": [
    {
     "name": "stdout",
     "output_type": "stream",
     "text": [
      "go see meat loaf\n",
      "move on\n"
     ]
    }
   ],
   "source": [
    "age =17\n",
    "if(age>18):\n",
    "    print(\"you enter\")\n",
    "else:\n",
    "        print(\"go see meat loaf\")\n",
    "print(\"move on\")"
   ]
  },
  {
   "cell_type": "code",
   "execution_count": 31,
   "id": "99418a0f",
   "metadata": {},
   "outputs": [
    {
     "name": "stdout",
     "output_type": "stream",
     "text": [
      "go see pink floyd\n",
      "move on\n"
     ]
    }
   ],
   "source": [
    "#elif\n",
    "\n",
    "age = 18\n",
    "\n",
    "if(age>18):\n",
    "    print(\"you enter\")\n",
    "    \n",
    "elif(age ==18):\n",
    "    print(\"go see pink floyd\")\n",
    "    \n",
    "else:\n",
    "        print(\"go see meat loaf\")\n",
    "print(\"move on\")"
   ]
  },
  {
   "cell_type": "code",
   "execution_count": 32,
   "id": "8f139dd4",
   "metadata": {},
   "outputs": [
    {
     "name": "stdout",
     "output_type": "stream",
     "text": [
      "the album was made in the 70 or 90\n"
     ]
    }
   ],
   "source": [
    "#logic operators\n",
    "\n",
    "#or\n",
    "\n",
    "album_year=1990\n",
    "\n",
    "if(album_year<1980) or (album_year>1989):\n",
    "    print(\"the album was made in the 70 or 90\")\n",
    "    \n",
    "else:\n",
    "    print(\"the album was made in 80\")\n"
   ]
  },
  {
   "cell_type": "code",
   "execution_count": 33,
   "id": "9f55f607",
   "metadata": {},
   "outputs": [
    {
     "name": "stdout",
     "output_type": "stream",
     "text": [
      "the album was made in dunno\n"
     ]
    }
   ],
   "source": [
    "#and\n",
    "\n",
    "album_year=1983\n",
    "\n",
    "if(album_year<1979) and (album_year>1990):\n",
    "    print(\"the album was made in the 80s\")\n",
    "    \n",
    "else:\n",
    "    print(\"the album was made in dunno\")\n",
    "\n"
   ]
  },
  {
   "cell_type": "code",
   "execution_count": null,
   "id": "846c3c60",
   "metadata": {},
   "outputs": [],
   "source": []
  }
 ],
 "metadata": {
  "kernelspec": {
   "display_name": "Python 3",
   "language": "python",
   "name": "python3"
  },
  "language_info": {
   "codemirror_mode": {
    "name": "ipython",
    "version": 3
   },
   "file_extension": ".py",
   "mimetype": "text/x-python",
   "name": "python",
   "nbconvert_exporter": "python",
   "pygments_lexer": "ipython3",
   "version": "3.9.5"
  }
 },
 "nbformat": 4,
 "nbformat_minor": 5
}
