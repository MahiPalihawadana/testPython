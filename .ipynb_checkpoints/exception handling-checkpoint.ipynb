{
 "cells": [
  {
   "cell_type": "code",
   "execution_count": null,
   "id": "dc7b2146",
   "metadata": {},
   "outputs": [],
   "source": [
    "#exception handling\n",
    "\n",
    "try:\n",
    "    getfile =open(\"myfile\",\"r\")\n",
    "    getfile.write(\"My file for exception handling\")\n",
    "    \n",
    "except IOError:\n",
    "    print(\"Unable to open or read\")\n",
    "    \n",
    "else:\n",
    "    print(\"the file was writtenm successfully\")\n",
    "\n",
    "finally:\n",
    "    getfile.close()\n",
    "    print(\"file is now closed\")\n"
   ]
  }
 ],
 "metadata": {
  "kernelspec": {
   "display_name": "Python 3",
   "language": "python",
   "name": "python3"
  },
  "language_info": {
   "codemirror_mode": {
    "name": "ipython",
    "version": 3
   },
   "file_extension": ".py",
   "mimetype": "text/x-python",
   "name": "python",
   "nbconvert_exporter": "python",
   "pygments_lexer": "ipython3",
   "version": "3.9.5"
  }
 },
 "nbformat": 4,
 "nbformat_minor": 5
}
