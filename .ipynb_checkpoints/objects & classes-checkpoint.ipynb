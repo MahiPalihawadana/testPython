{
 "cells": [
  {
   "cell_type": "code",
   "execution_count": null,
   "id": "c702a8ed",
   "metadata": {},
   "outputs": [],
   "source": [
    "#objects and classes\n",
    "\n",
    "#Python has lot of datatypes\n",
    "# int,float,String,List,Dictionary,Bool\n",
    "\n",
    "#each is an Object\n",
    "\n",
    "#each object has:\n",
    "# a type\n",
    "#an internal data representation(blue print)\n",
    "#a set of procedures for interacting with the object(method)\n",
    "\n",
    "#every object is an instance of a particulare type\n",
    "\n"
   ]
  },
  {
   "cell_type": "code",
   "execution_count": 1,
   "id": "def15ba2",
   "metadata": {},
   "outputs": [
    {
     "data": {
      "text/plain": [
       "list"
      ]
     },
     "execution_count": 1,
     "metadata": {},
     "output_type": "execute_result"
    }
   ],
   "source": [
    "Ratings=[21,87,62,14,65]\n",
    "\n",
    "type(Ratings)"
   ]
  },
  {
   "cell_type": "code",
   "execution_count": 3,
   "id": "6c49d0de",
   "metadata": {},
   "outputs": [
    {
     "data": {
      "text/plain": [
       "[14, 21, 62, 65, 87]"
      ]
     },
     "execution_count": 3,
     "metadata": {},
     "output_type": "execute_result"
    }
   ],
   "source": [
    "#methods - sort\n",
    "\n",
    "Ratings.sort()\n",
    "Ratings"
   ]
  },
  {
   "cell_type": "code",
   "execution_count": 4,
   "id": "9d7003d0",
   "metadata": {},
   "outputs": [
    {
     "data": {
      "text/plain": [
       "[87, 65, 62, 21, 14]"
      ]
     },
     "execution_count": 4,
     "metadata": {},
     "output_type": "execute_result"
    }
   ],
   "source": [
    "Ratings.reverse()\n",
    "Ratings"
   ]
  },
  {
   "cell_type": "code",
   "execution_count": null,
   "id": "b4480c33",
   "metadata": {},
   "outputs": [],
   "source": [
    "#cretae own class\n",
    "\n",
    "#class - Class Definition\n",
    "#Circle - Name of Class\n",
    "#object - Class parent\n",
    "\n",
    "#_init_ - special method or constrcutor used to initalize data attributes\n",
    "#radius,color - parameters\n",
    "#self - parameter thast shows newly created instance of the class\n",
    "\n",
    "class Circle(object):\n",
    "    \n",
    "    def _init_(self,radius,color):\n",
    "        self.radius = radius;\n",
    "        self.color = color;\n",
    "   \n",
    "\n",
    "    "
   ]
  },
  {
   "cell_type": "code",
   "execution_count": null,
   "id": "e328914c",
   "metadata": {},
   "outputs": [],
   "source": [
    "#defne class\n",
    "\n",
    "class Rectangle(object):\n",
    "    \n",
    "    #initalize the objects data attributes\n",
    "    def _init_(self,color,height,width):\n",
    "        self.height = height;\n",
    "        self.width = width;\n",
    "        self.color = color;"
   ]
  }
 ],
 "metadata": {
  "kernelspec": {
   "display_name": "Python 3",
   "language": "python",
   "name": "python3"
  },
  "language_info": {
   "codemirror_mode": {
    "name": "ipython",
    "version": 3
   },
   "file_extension": ".py",
   "mimetype": "text/x-python",
   "name": "python",
   "nbconvert_exporter": "python",
   "pygments_lexer": "ipython3",
   "version": "3.9.5"
  }
 },
 "nbformat": 4,
 "nbformat_minor": 5
}
