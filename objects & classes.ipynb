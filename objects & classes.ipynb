{
 "cells": [
  {
   "cell_type": "code",
   "execution_count": null,
   "id": "6a10a400",
   "metadata": {},
   "outputs": [],
   "source": [
    "#objects and classes\n",
    "\n",
    "#Python has lot of datatypes\n",
    "# int,float,String,List,Dictionary,Bool\n",
    "\n",
    "#each is an Object\n",
    "\n",
    "#each object has:\n",
    "# a type\n",
    "#an internal data representation(blue print)\n",
    "#a set of procedures for interacting with the object(method)\n",
    "\n",
    "#every object is an instance of a particulare type\n",
    "\n"
   ]
  },
  {
   "cell_type": "code",
   "execution_count": 1,
   "id": "c98e08eb",
   "metadata": {},
   "outputs": [
    {
     "data": {
      "text/plain": [
       "list"
      ]
     },
     "execution_count": 1,
     "metadata": {},
     "output_type": "execute_result"
    }
   ],
   "source": [
    "Ratings=[21,87,62,14,65]\n",
    "\n",
    "type(Ratings)"
   ]
  },
  {
   "cell_type": "code",
   "execution_count": 3,
   "id": "e000bc04",
   "metadata": {},
   "outputs": [
    {
     "data": {
      "text/plain": [
       "[14, 21, 62, 65, 87]"
      ]
     },
     "execution_count": 3,
     "metadata": {},
     "output_type": "execute_result"
    }
   ],
   "source": [
    "#methods - sort\n",
    "\n",
    "Ratings.sort()\n",
    "Ratings"
   ]
  },
  {
   "cell_type": "code",
   "execution_count": 4,
   "id": "29994c8f",
   "metadata": {},
   "outputs": [
    {
     "data": {
      "text/plain": [
       "[87, 65, 62, 21, 14]"
      ]
     },
     "execution_count": 4,
     "metadata": {},
     "output_type": "execute_result"
    }
   ],
   "source": [
    "Ratings.reverse()\n",
    "Ratings"
   ]
  },
  {
   "cell_type": "code",
   "execution_count": 14,
   "id": "f0aed08a",
   "metadata": {},
   "outputs": [],
   "source": [
    "#cretae own class\n",
    "\n",
    "#class - Class Definition\n",
    "#Circle - Name of Class\n",
    "#object - Class parent\n",
    "\n",
    "#_init_ - special method or constrcutor used to initalize data attributes\n",
    "#radius,color - parameters\n",
    "#self - parameter thast shows newly created instance of the class\n",
    "\n",
    "class Circle(object ):\n",
    "    \n",
    "    def _init_(self,radius,color):\n",
    "        self.radius = radius;\n",
    "        self.color = color;\n",
    "   \n",
    "    def add_radius(self,r):\n",
    "        self.radius=self.radius+r"
   ]
  },
  {
   "cell_type": "code",
   "execution_count": 22,
   "id": "c0b0d6ad",
   "metadata": {},
   "outputs": [
    {
     "ename": "TypeError",
     "evalue": "Circle() takes no arguments",
     "output_type": "error",
     "traceback": [
      "\u001b[1;31m---------------------------------------------------------------------------\u001b[0m",
      "\u001b[1;31mTypeError\u001b[0m                                 Traceback (most recent call last)",
      "\u001b[1;32m<ipython-input-22-51a6a4cb8c33>\u001b[0m in \u001b[0;36m<module>\u001b[1;34m\u001b[0m\n\u001b[1;32m----> 1\u001b[1;33m \u001b[0mc1\u001b[0m\u001b[1;33m=\u001b[0m\u001b[0mCircle\u001b[0m\u001b[1;33m(\u001b[0m\u001b[1;36m2\u001b[0m\u001b[1;33m,\u001b[0m\u001b[1;34m'red'\u001b[0m\u001b[1;33m)\u001b[0m\u001b[1;33m\u001b[0m\u001b[1;33m\u001b[0m\u001b[0m\n\u001b[0m\u001b[0;32m      2\u001b[0m \u001b[0mc1\u001b[0m\u001b[1;33m.\u001b[0m\u001b[0madd_radius\u001b[0m\u001b[1;33m(\u001b[0m\u001b[1;36m8\u001b[0m\u001b[1;33m)\u001b[0m\u001b[1;33m\u001b[0m\u001b[1;33m\u001b[0m\u001b[0m\n",
      "\u001b[1;31mTypeError\u001b[0m: Circle() takes no arguments"
     ]
    }
   ],
   "source": [
    "c1=Circle(2,'red')\n",
    "c1.add_radius(8)"
   ]
  },
  {
   "cell_type": "code",
   "execution_count": 23,
   "id": "9f21cf39",
   "metadata": {},
   "outputs": [],
   "source": [
    "#defne class\n",
    "\n",
    "class Rectangle(object):\n",
    "    \n",
    "    #initalize the objects data attributes\n",
    "    def _init_(self,color,height,width):\n",
    "        self.height = height;\n",
    "        self.width = width;\n",
    "        self.color = color;"
   ]
  },
  {
   "cell_type": "code",
   "execution_count": 24,
   "id": "d7ee7480",
   "metadata": {},
   "outputs": [
    {
     "ename": "TypeError",
     "evalue": "Rectangle() takes no arguments",
     "output_type": "error",
     "traceback": [
      "\u001b[1;31m---------------------------------------------------------------------------\u001b[0m",
      "\u001b[1;31mTypeError\u001b[0m                                 Traceback (most recent call last)",
      "\u001b[1;32m<ipython-input-24-50ebbc0349b6>\u001b[0m in \u001b[0;36m<module>\u001b[1;34m\u001b[0m\n\u001b[1;32m----> 1\u001b[1;33m \u001b[0mFatYellowRec\u001b[0m \u001b[1;33m=\u001b[0m \u001b[0mRectangle\u001b[0m\u001b[1;33m(\u001b[0m\u001b[1;36m20\u001b[0m\u001b[1;33m,\u001b[0m\u001b[1;36m5\u001b[0m\u001b[1;33m,\u001b[0m\u001b[1;34m'yellow'\u001b[0m\u001b[1;33m)\u001b[0m\u001b[1;33m\u001b[0m\u001b[1;33m\u001b[0m\u001b[0m\n\u001b[0m",
      "\u001b[1;31mTypeError\u001b[0m: Rectangle() takes no arguments"
     ]
    }
   ],
   "source": [
    "FatYellowRec = Rectangle(20,5,'yellow')"
   ]
  },
  {
   "cell_type": "code",
   "execution_count": null,
   "id": "89717a27",
   "metadata": {},
   "outputs": [],
   "source": []
  }
 ],
 "metadata": {
  "kernelspec": {
   "display_name": "Python 3",
   "language": "python",
   "name": "python3"
  },
  "language_info": {
   "codemirror_mode": {
    "name": "ipython",
    "version": 3
   },
   "file_extension": ".py",
   "mimetype": "text/x-python",
   "name": "python",
   "nbconvert_exporter": "python",
   "pygments_lexer": "ipython3",
   "version": "3.9.5"
  }
 },
 "nbformat": 4,
 "nbformat_minor": 5
}
